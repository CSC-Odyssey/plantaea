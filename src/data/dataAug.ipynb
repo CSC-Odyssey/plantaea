{
 "cells": [
  {
   "cell_type": "code",
   "execution_count": 1,
   "metadata": {},
   "outputs": [
    {
     "name": "stderr",
     "output_type": "stream",
     "text": [
      "c:\\Users\\Bryan\\anaconda3\\lib\\site-packages\\scipy\\__init__.py:146: UserWarning: A NumPy version >=1.16.5 and <1.23.0 is required for this version of SciPy (detected version 1.23.5\n",
      "  warnings.warn(f\"A NumPy version >={np_minversion} and <{np_maxversion}\"\n"
     ]
    }
   ],
   "source": [
    "from numpy import expand_dims\n",
    "from keras.preprocessing.image import load_img\n",
    "from keras.preprocessing.image import img_to_array\n",
    "from keras.preprocessing.image import ImageDataGenerator\n",
    "from matplotlib import pyplot\n",
    "from scipy import ndimage\n",
    "from PIL import Image\n",
    "import os\n",
    "import imageio\n",
    "import numpy as np\n"
   ]
  },
  {
   "cell_type": "code",
   "execution_count": 3,
   "metadata": {},
   "outputs": [],
   "source": [
    "# Name of image to be augmented\n",
    "image_path = 'mango.jpg'\n",
    "\n",
    "currentPlantName = image_path.split(\".\")[0]\n",
    "# Create dir if none exists based on the name of jpg\n",
    "path = \"{}_augmented\".format(currentPlantName)\n",
    "\n",
    "isExist = os.path.exists(path)\n",
    "if not isExist:\n",
    "\tos.makedirs(path)\n",
    "\n",
    "imageDataGen = ImageDataGenerator(rotation_range=90)\n",
    "image = np.expand_dims(imageio.imread(image_path), 0)\n",
    "\n",
    "imageDataGen.fit(image)\n",
    "\n",
    "\n",
    "for x, val in zip(imageDataGen.flow(image,               \n",
    "        save_to_dir=path,     \n",
    "         save_prefix=currentPlantName,        \n",
    "        save_format='png'),range(10)) :  \n",
    "\tpass"
   ]
  }
 ],
 "metadata": {
  "kernelspec": {
   "display_name": "base",
   "language": "python",
   "name": "python3"
  },
  "language_info": {
   "codemirror_mode": {
    "name": "ipython",
    "version": 3
   },
   "file_extension": ".py",
   "mimetype": "text/x-python",
   "name": "python",
   "nbconvert_exporter": "python",
   "pygments_lexer": "ipython3",
   "version": "3.9.7"
  },
  "orig_nbformat": 4,
  "vscode": {
   "interpreter": {
    "hash": "96e4788ae14688d5fa7d2c6d018a073dd531b8816c9d5d24f36eca33c12669df"
   }
  }
 },
 "nbformat": 4,
 "nbformat_minor": 2
}
